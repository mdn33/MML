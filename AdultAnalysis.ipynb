{
 "cells": [
  {
   "cell_type": "code",
   "execution_count": null,
   "metadata": {},
   "outputs": [],
   "source": [
    "import numpy as np \n",
    "import pandas as pd \n",
    "import matplotlib.pyplot as plt\n",
    "import seaborn as sns\n",
    "from sklearn.preprocessing import MinMaxScaler\n",
    "from imblearn.under_sampling import ClusterCentroids\n",
    "from sklearn.metrics import f1_score\n",
    "from sklearn.metrics import accuracy_score\n",
    "from sklearn.metrics import recall_score\n",
    "from sklearn.metrics import precision_score\n",
    "\n",
    "%matplotlib inline"
   ]
  },
  {
   "cell_type": "code",
   "execution_count": null,
   "metadata": {},
   "outputs": [],
   "source": [
    "test = pd.read_csv(\"test.csv\",header=None, names=[\"age\",\"workclass\",\"fnlwgt\",\"education\",\"education_num\",\"marital-status\",\"occupation\",\"relationship\",\"race\",\"sex\",\n",
    "                                                   \"capital-gain\",\"capital-loss\",\"hours-per-week\",\"native-country\",\"income\"])\n",
    "test = test.iloc[1:]"
   ]
  },
  {
   "cell_type": "code",
   "execution_count": null,
   "metadata": {},
   "outputs": [],
   "source": [
    "train = pd.read_csv(\"adult.csv\",header=None, names=[\"age\",\"workclass\",\"fnlwgt\",\"education\",\"education_num\",\"marital-status\",\"occupation\",\"relationship\",\"race\",\"sex\",\n",
    "                                                   \"capital-gain\",\"capital-loss\",\"hours-per-week\",\"native-country\",\"income\"])"
   ]
  },
  {
   "cell_type": "code",
   "execution_count": null,
   "metadata": {},
   "outputs": [],
   "source": [
    "data = pd.concat([train, test])\n",
    "data['age'] = data['age'].apply(lambda x: int(x))\n",
    "data = data.apply(lambda x: x.str.strip() if x.dtype == \"object\" else x)\n",
    "data['income'] = data['income'].apply(lambda x: x.replace('.',''))"
   ]
  },
  {
   "cell_type": "code",
   "execution_count": null,
   "metadata": {
    "scrolled": true
   },
   "outputs": [],
   "source": [
    "data.head(3)"
   ]
  },
  {
   "cell_type": "code",
   "execution_count": null,
   "metadata": {},
   "outputs": [],
   "source": [
    "data.shape"
   ]
  },
  {
   "cell_type": "markdown",
   "metadata": {},
   "source": [
    "# Data Cleaning"
   ]
  },
  {
   "cell_type": "code",
   "execution_count": null,
   "metadata": {},
   "outputs": [],
   "source": [
    "print(f\"Presence of Nan values: {data.isnull().values.any()}\")"
   ]
  },
  {
   "cell_type": "code",
   "execution_count": null,
   "metadata": {},
   "outputs": [],
   "source": [
    "print(f\"number of samples with unknown native country: {len(data[data['native-country']=='?'])}\")\n",
    "print(f\"number of samples with unknown workclass: {len(data[data['workclass']=='?'])}\")\n",
    "print(f\"number of samples with unknown occupation: {len(data[data['occupation']=='?'])}\")"
   ]
  },
  {
   "cell_type": "code",
   "execution_count": null,
   "metadata": {},
   "outputs": [],
   "source": [
    "data.drop(data[data['occupation']=='?'].index, inplace=True)\n",
    "data.drop(data[data['native-country']=='?'].index, inplace=True)\n",
    "data.drop(data[data['workclass']=='?'].index, inplace=True)"
   ]
  },
  {
   "cell_type": "markdown",
   "metadata": {},
   "source": [
    "# Exploration"
   ]
  },
  {
   "cell_type": "code",
   "execution_count": null,
   "metadata": {
    "scrolled": true
   },
   "outputs": [],
   "source": [
    "data.describe()"
   ]
  },
  {
   "cell_type": "code",
   "execution_count": null,
   "metadata": {},
   "outputs": [],
   "source": [
    "sns.set(style=\"whitegrid\")\n",
    "plt.figure(figsize=(8,8))\n",
    "ax = sns.countplot(x=\"income\", data=data, hue=\"income\")\n",
    "plt.ylabel('Count', fontsize=12)\n",
    "plt.xlabel('Class', fontsize=12)\n",
    "\n",
    "for p in ax.patches:\n",
    "    ax.annotate('{0:.0f}'.format(p.get_height(), 'f'), (p.get_x() + p.get_width() / 2., p.get_height()), ha='center', va='center', xytext=(0, 10), textcoords='offset points')\n",
    "\n",
    "plt.savefig(fname=\"Class_count.png\")\n",
    "plt.show()"
   ]
  },
  {
   "cell_type": "code",
   "execution_count": null,
   "metadata": {},
   "outputs": [],
   "source": [
    "plt.figure(figsize=(5,4))\n",
    "ax = sns.boxplot(y=\"age\", x=\"income\", data=data)\n",
    "plt.ylabel('Age', fontsize=12)\n",
    "plt.xlabel('Class', fontsize=12)\n",
    "\n",
    "plt.savefig(fname=\"agebox.png\")\n",
    "plt.show()"
   ]
  },
  {
   "cell_type": "code",
   "execution_count": null,
   "metadata": {},
   "outputs": [],
   "source": [
    "sns.set_style(\"whitegrid\")\n",
    "plt.figure(figsize=(22,6))\n",
    "ax = sns.countplot(x=\"occupation\", hue=\"income\", data=data)\n",
    "plt.ylabel('Count', fontsize=12)\n",
    "plt.xlabel('Occupation', fontsize=12)\n",
    "\n",
    "ax.legend().set_title('Class')\n",
    "plt.setp(ax.get_legend().get_title(), fontsize='22')\n",
    "plt.setp(ax.get_legend().get_texts(), fontsize='18')\n",
    "\n",
    "for p in ax.patches:\n",
    "    ax.annotate(format(p.get_height(), 'd'), (p.get_x() + p.get_width() / 2., p.get_height()), ha='center', va='center', xytext=(0, 10), textcoords='offset points')\n",
    "\n",
    "plt.show()"
   ]
  },
  {
   "cell_type": "code",
   "execution_count": null,
   "metadata": {},
   "outputs": [],
   "source": [
    "sns.set_style(\"whitegrid\")\n",
    "plt.figure(figsize=(22,6))\n",
    "ax = sns.countplot(x=\"marital-status\", hue=\"income\", data=data)\n",
    "plt.ylabel('Count', fontsize=12)\n",
    "plt.xlabel('Marital Status', fontsize=12)\n",
    "\n",
    "ax.legend().set_title('Class')\n",
    "plt.setp(ax.get_legend().get_title(), fontsize='22')\n",
    "plt.setp(ax.get_legend().get_texts(), fontsize='18')\n",
    "\n",
    "for p in ax.patches:\n",
    "    ax.annotate(format(p.get_height(), 'd'), (p.get_x() + p.get_width() / 2., p.get_height()), ha='center', va='center', xytext=(0, 10), textcoords='offset points')\n",
    "\n",
    "plt.show()"
   ]
  },
  {
   "cell_type": "code",
   "execution_count": null,
   "metadata": {
    "scrolled": true
   },
   "outputs": [],
   "source": [
    "sns.set_style(\"whitegrid\")\n",
    "plt.figure(figsize=(22,6))\n",
    "ax = sns.countplot(x=\"workclass\", hue=\"income\", data=data)\n",
    "plt.ylabel('Count', fontsize=12)\n",
    "plt.xlabel('Workclass', fontsize=12)\n",
    "\n",
    "\n",
    "for p in ax.patches:\n",
    "    ax.annotate('{0:.0f}'.format(p.get_height(), 'f'), (p.get_x() + p.get_width() / 2., p.get_height()), ha='center', va='center', xytext=(0, 10), textcoords='offset points')\n",
    "\n",
    "ax.legend().set_title('Class')\n",
    "plt.setp(ax.get_legend().get_title(), fontsize='22')\n",
    "plt.setp(ax.get_legend().get_texts(), fontsize='18')\n",
    "\n",
    "plt.show()"
   ]
  },
  {
   "cell_type": "code",
   "execution_count": null,
   "metadata": {
    "scrolled": true
   },
   "outputs": [],
   "source": [
    "sns.set_style(\"whitegrid\")\n",
    "plt.figure(figsize=(22,6))\n",
    "ax = sns.countplot(x=\"education\", hue=\"income\", data=data)\n",
    "plt.ylabel('Count', fontsize=12)\n",
    "plt.xlabel('Education', fontsize=12)\n",
    "\n",
    "for p in ax.patches:\n",
    "    ax.annotate('{0:.0f}'.format(p.get_height(), 'f'), (p.get_x() + p.get_width() / 2., p.get_height()), ha='center', va='center', xytext=(0, 10), textcoords='offset points')\n",
    "\n",
    "ax.legend().set_title('Class')\n",
    "plt.setp(ax.get_legend().get_title(), fontsize='22')\n",
    "plt.setp(ax.get_legend().get_texts(), fontsize='18')\n",
    "\n",
    "plt.show()"
   ]
  },
  {
   "cell_type": "code",
   "execution_count": null,
   "metadata": {},
   "outputs": [],
   "source": [
    "sns.set_style(\"whitegrid\")\n",
    "plt.figure(figsize=(22,6))\n",
    "ax = sns.countplot(x=\"relationship\", hue=\"income\", data=data)\n",
    "plt.ylabel('Count', fontsize=12)\n",
    "plt.xlabel('Relationship', fontsize=12)\n",
    "\n",
    "ax.legend().set_title('Class')\n",
    "plt.setp(ax.get_legend().get_title(), fontsize='22')\n",
    "plt.setp(ax.get_legend().get_texts(), fontsize='18')\n",
    "\n",
    "for p in ax.patches:\n",
    "    ax.annotate(format(p.get_height(), 'd'), (p.get_x() + p.get_width() / 2., p.get_height()), ha='center', va='center', xytext=(0, 10), textcoords='offset points')\n",
    "\n",
    "plt.show()"
   ]
  },
  {
   "cell_type": "code",
   "execution_count": null,
   "metadata": {},
   "outputs": [],
   "source": [
    "sns.set_style(\"whitegrid\")\n",
    "plt.figure(figsize=(22,6))\n",
    "ax = sns.countplot(x=\"race\", hue=\"income\", data=data)\n",
    "plt.ylabel('Count', fontsize=12)\n",
    "plt.xlabel('Race', fontsize=12)\n",
    "\n",
    "ax.legend().set_title('Class')\n",
    "plt.setp(ax.get_legend().get_title(), fontsize='22')\n",
    "plt.setp(ax.get_legend().get_texts(), fontsize='18')\n",
    "\n",
    "for p in ax.patches:\n",
    "    ax.annotate(format(p.get_height(), 'd'), (p.get_x() + p.get_width() / 2., p.get_height()), ha='center', va='center', xytext=(0, 10), textcoords='offset points')\n",
    "\n",
    "plt.show()"
   ]
  },
  {
   "cell_type": "code",
   "execution_count": null,
   "metadata": {
    "scrolled": true
   },
   "outputs": [],
   "source": [
    "sns.set_style(\"whitegrid\")\n",
    "plt.figure(figsize=(22,6))\n",
    "ax = sns.countplot(x=\"sex\", hue=\"income\", data=data)\n",
    "plt.ylabel('Count', fontsize=12)\n",
    "plt.xlabel('Sex', fontsize=12)\n",
    "\n",
    "ax.legend().set_title('Class')\n",
    "plt.setp(ax.get_legend().get_title(), fontsize='22')\n",
    "plt.setp(ax.get_legend().get_texts(), fontsize='18')\n",
    "\n",
    "for p in ax.patches:\n",
    "    ax.annotate(format(p.get_height(), 'd'), (p.get_x() + p.get_width() / 2., p.get_height()), ha='center', va='center', xytext=(0, 10), textcoords='offset points')\n",
    "\n",
    "plt.show()"
   ]
  },
  {
   "cell_type": "code",
   "execution_count": null,
   "metadata": {
    "scrolled": true
   },
   "outputs": [],
   "source": [
    "plt.figure(figsize=(5,4))\n",
    "ax = sns.boxplot(y=\"hours-per-week\", x=\"income\", data=data)\n",
    "plt.ylabel('Hours per Week', fontsize=12)\n",
    "plt.xlabel('Class', fontsize=12)\n",
    "plt.savefig(fname=\"hoursbox.png\")\n",
    "plt.show()"
   ]
  },
  {
   "cell_type": "code",
   "execution_count": null,
   "metadata": {},
   "outputs": [],
   "source": [
    "plt.figure(figsize=(5,4))\n",
    "ax = sns.boxplot(y=\"fnlwgt\", x=\"income\", data=data)\n",
    "plt.ylabel('fnlwgt', fontsize=12)\n",
    "plt.xlabel('Class', fontsize=12)\n",
    "plt.savefig(fname=\"fnlwgtbox.png\")\n",
    "plt.show()"
   ]
  },
  {
   "cell_type": "code",
   "execution_count": null,
   "metadata": {
    "scrolled": true
   },
   "outputs": [],
   "source": [
    "plt.figure(figsize=(5,4))\n",
    "ax = sns.boxplot(y=\"education_num\", x=\"income\", data=data)\n",
    "plt.ylabel('Education Num', fontsize=12)\n",
    "plt.xlabel('Class', fontsize=12)\n",
    "\n",
    "plt.show()"
   ]
  },
  {
   "cell_type": "code",
   "execution_count": null,
   "metadata": {},
   "outputs": [],
   "source": [
    "plt.figure(figsize=(5,4))\n",
    "ax = sns.boxplot(y=\"capital-gain\", x=\"income\", data=data)\n",
    "plt.ylabel('Capital Gain', fontsize=12)\n",
    "plt.xlabel('Class', fontsize=12)\n",
    "plt.savefig(fname=\"Gainbox.png\")\n",
    "plt.show()"
   ]
  },
  {
   "cell_type": "code",
   "execution_count": null,
   "metadata": {
    "scrolled": true
   },
   "outputs": [],
   "source": [
    "plt.figure(figsize=(5,4))\n",
    "ax = sns.boxplot(y=\"capital-loss\", x=\"income\", data=data)\n",
    "plt.ylabel('Capital Loss', fontsize=12)\n",
    "plt.xlabel('Class', fontsize=12)\n",
    "plt.savefig(fname=\"Lossbox.png\")\n",
    "plt.show()"
   ]
  },
  {
   "cell_type": "code",
   "execution_count": null,
   "metadata": {},
   "outputs": [],
   "source": [
    "df_corr = data.corr()\n",
    "fig, ax = plt.subplots(figsize=(8,6))         \n",
    "ax = sns.heatmap(df_corr, annot=True,cmap=\"Blues\") \n",
    "bottom, top = ax.get_ylim()\n",
    "ax.set_ylim(bottom + 0.5, top - 0.5)"
   ]
  },
  {
   "cell_type": "code",
   "execution_count": null,
   "metadata": {},
   "outputs": [],
   "source": [
    "sns.pairplot(data, hue='income')"
   ]
  },
  {
   "cell_type": "markdown",
   "metadata": {},
   "source": [
    "# One Hot Encoding"
   ]
  },
  {
   "cell_type": "code",
   "execution_count": null,
   "metadata": {},
   "outputs": [],
   "source": [
    "y = data['income']\n",
    "data = data.drop('income', axis=1)\n",
    "y[y=='<=50K'] = 0\n",
    "y[y=='>50K'] = 1\n",
    "y=y.astype('int')"
   ]
  },
  {
   "cell_type": "code",
   "execution_count": null,
   "metadata": {},
   "outputs": [],
   "source": [
    "X = pd.get_dummies(data).astype(np.float)"
   ]
  },
  {
   "cell_type": "code",
   "execution_count": null,
   "metadata": {
    "scrolled": true
   },
   "outputs": [],
   "source": [
    "X.shape"
   ]
  },
  {
   "cell_type": "markdown",
   "metadata": {},
   "source": [
    "# Outliers Removal"
   ]
  },
  {
   "cell_type": "code",
   "execution_count": null,
   "metadata": {},
   "outputs": [],
   "source": [
    "from scipy.stats import zscore"
   ]
  },
  {
   "cell_type": "code",
   "execution_count": null,
   "metadata": {},
   "outputs": [],
   "source": [
    "scores = np.abs(zscore(X))\n",
    "filtered = (scores < 3).all(axis=1)\n",
    "newX1 = X[filtered]\n",
    "newy1 = y[filtered]"
   ]
  },
  {
   "cell_type": "code",
   "execution_count": null,
   "metadata": {},
   "outputs": [],
   "source": [
    "Q1 = data.quantile(0.25)\n",
    "Q3 = data.quantile(0.75)\n",
    "IQR = Q3 - Q1\n",
    "newX2 = X[~((data < (Q1 - 1.5 * IQR)) |(data > (Q3 + 1.5 * IQR))).any(axis=1)]\n",
    "newy2 = y[~((data < (Q1 - 1.5 * IQR)) |(data > (Q3 + 1.5 * IQR))).any(axis=1)]"
   ]
  },
  {
   "cell_type": "code",
   "execution_count": null,
   "metadata": {},
   "outputs": [],
   "source": [
    "from sklearn.ensemble import IsolationForest\n",
    "clf = IsolationForest()\n",
    "is_outliers = clf.fit_predict(X)\n",
    "newX3 = X.iloc[is_outliers==1]\n",
    "newy3 = y.iloc[is_outliers==1]"
   ]
  },
  {
   "cell_type": "code",
   "execution_count": null,
   "metadata": {},
   "outputs": [],
   "source": [
    "X,y = newX2, newy2"
   ]
  },
  {
   "cell_type": "markdown",
   "metadata": {},
   "source": [
    "## Scaling"
   ]
  },
  {
   "cell_type": "code",
   "execution_count": null,
   "metadata": {},
   "outputs": [],
   "source": [
    "scaler = MinMaxScaler()\n",
    "X[:] = scaler.fit_transform(X[:])"
   ]
  },
  {
   "cell_type": "markdown",
   "metadata": {},
   "source": [
    "# PCA"
   ]
  },
  {
   "cell_type": "code",
   "execution_count": null,
   "metadata": {},
   "outputs": [],
   "source": [
    "from sklearn.decomposition import PCA\n",
    "\n",
    "pca = PCA().fit(X)\n",
    "plt.plot(np.cumsum(pca.explained_variance_ratio_))\n",
    "plt.plot(pca.explained_variance_ratio_)\n",
    "plt.xlabel('number of components')\n",
    "plt.ylabel('proportion of variance explained');\n",
    "plt.legend(['Cumulative Variance', 'Component Variance'])"
   ]
  },
  {
   "cell_type": "code",
   "execution_count": null,
   "metadata": {},
   "outputs": [],
   "source": [
    "pca = PCA(n_components = 40)\n",
    "X_pca = pca.fit_transform(X)"
   ]
  },
  {
   "cell_type": "markdown",
   "metadata": {},
   "source": [
    "### Train Test split"
   ]
  },
  {
   "cell_type": "code",
   "execution_count": null,
   "metadata": {},
   "outputs": [],
   "source": [
    "from sklearn.model_selection import train_test_split\n",
    "X_train_val, X_test, y_train_val, y_test = train_test_split(X_pca, y, test_size=0.30, random_state=42,stratify=y)"
   ]
  },
  {
   "cell_type": "markdown",
   "metadata": {},
   "source": [
    "# Models and Results"
   ]
  },
  {
   "cell_type": "code",
   "execution_count": null,
   "metadata": {},
   "outputs": [],
   "source": [
    "from sklearn.metrics import confusion_matrix\n",
    "def confmat(y_test,pred):\n",
    "    cf_matrix = confusion_matrix(y_test, pred)\n",
    "    ax = sns.heatmap(cf_matrix, annot=True,  fmt='g',cmap='coolwarm',xticklabels=[\"<=50K\",\">50K\"],yticklabels=[\"<=50K\",\">50K\"]) #notation: \"annot\" not \"annote\"\n",
    "    bottom, top = ax.get_ylim()\n",
    "    ax.set_ylim(bottom + 0.5, top - 0.5)\n",
    "    ax.set(xlabel='True Label', ylabel='Predicted Label')"
   ]
  },
  {
   "cell_type": "markdown",
   "metadata": {},
   "source": [
    "# Decision Tree"
   ]
  },
  {
   "cell_type": "code",
   "execution_count": null,
   "metadata": {},
   "outputs": [],
   "source": [
    "from sklearn.model_selection import StratifiedKFold\n",
    "from imblearn.over_sampling import SMOTE\n",
    "from sklearn.tree import DecisionTreeClassifier\n",
    "from sklearn.metrics import f1_score\n",
    "kf = StratifiedKFold(n_splits=10)\n",
    "scores = []\n",
    "for train_index, test_index in kf.split(X_train_val,y_train_val):\n",
    "    X_train, X_val = X_train_val[train_index], X_train_val[test_index]\n",
    "    y_train, y_val = y_train_val.iloc[train_index], y_train_val.iloc[test_index]\n",
    "    \n",
    "    #SMOTE\n",
    "    sm = SMOTE(random_state=42)\n",
    "    X_res, y_res = sm.fit_resample(X_train, y_train)\n",
    "    \n",
    "    #Classification\n",
    "    clf = DecisionTreeClassifier(criterion='gini',max_depth=10)\n",
    "    clf.fit(X_res,y_res)\n",
    "    pred = clf.predict(X_val)\n",
    "    scores.append(f1_score(pred,y_val))\n",
    "print(f\"mean score {np.mean(scores)}\")"
   ]
  },
  {
   "cell_type": "code",
   "execution_count": null,
   "metadata": {},
   "outputs": [],
   "source": [
    "# results on the test set\n",
    "clf = DecisionTreeClassifier(criterion='gini',max_depth=10)\n",
    "sm = SMOTE(random_state=42)\n",
    "X_res, y_res = sm.fit_resample(X_train_val, y_train_val)\n",
    "clf.fit(X_res,y_res)\n",
    "pred = clf.predict(X_test)\n",
    "print(accuracy_score(pred,y_test))\n",
    "print(f1_score(pred,y_test))\n",
    "print(precision_score(pred,y_test))\n",
    "print(recall_score(pred,y_test))"
   ]
  },
  {
   "cell_type": "code",
   "execution_count": null,
   "metadata": {
    "scrolled": true
   },
   "outputs": [],
   "source": [
    "confmat(y_test,pred)"
   ]
  },
  {
   "cell_type": "markdown",
   "metadata": {},
   "source": [
    "# Random Forest"
   ]
  },
  {
   "cell_type": "code",
   "execution_count": null,
   "metadata": {},
   "outputs": [],
   "source": [
    "from sklearn.ensemble import RandomForestClassifier\n",
    "kf = StratifiedKFold(n_splits=10)\n",
    "scores = []\n",
    "for train_index, test_index in kf.split(X_train_val,y_train_val):\n",
    "    X_train, X_val = X_train_val[train_index], X_train_val[test_index]\n",
    "    y_train, y_val = y_train_val.iloc[train_index], y_train_val.iloc[test_index]\n",
    "    \n",
    "    #SMOTE\n",
    "    sm = SMOTE(random_state=42)\n",
    "    X_res, y_res = sm.fit_resample(X_train, y_train)\n",
    "    \n",
    "    #Classification\n",
    "    clf = RandomForestClassifier()\n",
    "    clf.fit(X_res,y_res)\n",
    "    pred = clf.predict(X_val)\n",
    "    scores.append(f1_score(pred,y_val))\n",
    "print(f\"mean score {np.mean(scores)}\")"
   ]
  },
  {
   "cell_type": "code",
   "execution_count": null,
   "metadata": {},
   "outputs": [],
   "source": [
    "# results on the test set\n",
    "clf = RandomForestClassifier(n_estimators=300,max_depth=10, max_features = 'sqrt')\n",
    "sm = SMOTE(random_state=42)\n",
    "X_res, y_res = sm.fit_resample(X_train_val, y_train_val)\n",
    "clf.fit(X_res,y_res)\n",
    "pred = clf.predict(X_test)\n",
    "print(accuracy_score(pred,y_test))\n",
    "print(f1_score(pred,y_test))\n",
    "print(precision_score(pred,y_test))\n",
    "print(recall_score(pred,y_test))"
   ]
  },
  {
   "cell_type": "code",
   "execution_count": null,
   "metadata": {},
   "outputs": [],
   "source": [
    "confmat(y_test,pred)"
   ]
  },
  {
   "cell_type": "markdown",
   "metadata": {},
   "source": [
    "# Logistic Regression"
   ]
  },
  {
   "cell_type": "code",
   "execution_count": null,
   "metadata": {},
   "outputs": [],
   "source": [
    "from sklearn.model_selection import StratifiedKFold\n",
    "from imblearn.over_sampling import SMOTE\n",
    "from sklearn.linear_model import LogisticRegression\n",
    "from sklearn.metrics import f1_score\n",
    "kf = StratifiedKFold(n_splits=10)\n",
    "scores = []\n",
    "for train_index, test_index in kf.split(X_train_val,y_train_val):\n",
    "    X_train, X_val = X_train_val[train_index], X_train_val[test_index]\n",
    "    y_train, y_val = y_train_val.iloc[train_index], y_train_val.iloc[test_index]\n",
    "    \n",
    "    #SMOTE\n",
    "    sm = SMOTE(random_state=42)\n",
    "    X_res, y_res = sm.fit_resample(X_train, y_train)\n",
    "    \n",
    "    #Classification\n",
    "    clf = LogisticRegression()\n",
    "    clf.fit(X_res,y_res)\n",
    "    pred = clf.predict(X_val)\n",
    "    scores.append(f1_score(pred,y_val))\n",
    "print(f\"mean score {np.mean(scores)}\")"
   ]
  },
  {
   "cell_type": "code",
   "execution_count": null,
   "metadata": {},
   "outputs": [],
   "source": [
    "clf = LogisticRegression()\n",
    "sm = SMOTE(random_state=42)\n",
    "X_res, y_res = sm.fit_resample(X_train_val, y_train_val)\n",
    "clf.fit(X_res,y_res)\n",
    "pred = clf.predict(X_test)\n",
    "print(accuracy_score(pred,y_test))\n",
    "print(f1_score(pred,y_test))\n",
    "print(precision_score(pred,y_test))\n",
    "print(recall_score(pred,y_test))"
   ]
  },
  {
   "cell_type": "code",
   "execution_count": null,
   "metadata": {},
   "outputs": [],
   "source": [
    "confmat(y_test,pred)"
   ]
  },
  {
   "cell_type": "markdown",
   "metadata": {},
   "source": [
    "# SVM"
   ]
  },
  {
   "cell_type": "code",
   "execution_count": null,
   "metadata": {},
   "outputs": [],
   "source": [
    "from sklearn.model_selection import StratifiedKFold\n",
    "from imblearn.over_sampling import SMOTE\n",
    "from sklearn.svm import LinearSVC\n",
    "from sklearn.metrics import f1_score\n",
    "kf = StratifiedKFold(n_splits=10)\n",
    "scores = []\n",
    "for train_index, test_index in kf.split(X_train_val,y_train_val):\n",
    "    X_train, X_val = X_train_val[train_index], X_train_val[test_index]\n",
    "    y_train, y_val = y_train_val.iloc[train_index], y_train_val.iloc[test_index]\n",
    "    \n",
    "    #SMOTE\n",
    "    sm = SMOTE(random_state=42)\n",
    "    X_res, y_res = sm.fit_resample(X_train, y_train)\n",
    "    \n",
    "    #Classification\n",
    "    clf = LinearSVC()\n",
    "    clf.fit(X_res,y_res)\n",
    "    pred = clf.predict(X_val)\n",
    "    scores.append(f1_score(pred,y_val))\n",
    "print(f\"mean score {np.mean(scores)}\")"
   ]
  },
  {
   "cell_type": "code",
   "execution_count": null,
   "metadata": {},
   "outputs": [],
   "source": [
    "from sklearn.svm import LinearSVC\n",
    "clf = LinearSVC(C=1, max_iter=10000)\n",
    "sm = SMOTE(random_state=42)\n",
    "X_res, y_res = sm.fit_resample(X_train_val, y_train_val)\n",
    "clf.fit(X_res,y_res)\n",
    "pred = clf.predict(X_test)\n",
    "print(accuracy_score(pred,y_test))\n",
    "print(f1_score(pred,y_test))\n",
    "print(precision_score(pred,y_test))\n",
    "print(recall_score(pred,y_test))"
   ]
  },
  {
   "cell_type": "code",
   "execution_count": null,
   "metadata": {
    "scrolled": true
   },
   "outputs": [],
   "source": [
    "confmat(y_test,pred)"
   ]
  },
  {
   "cell_type": "markdown",
   "metadata": {},
   "source": [
    "# SVC"
   ]
  },
  {
   "cell_type": "code",
   "execution_count": null,
   "metadata": {
    "scrolled": true
   },
   "outputs": [],
   "source": [
    "from sklearn.svm import SVC\n",
    "from imblearn.over_sampling import SMOTE\n",
    "clf = SVC(gamma=0.1)\n",
    "sm = SMOTE(random_state=42)\n",
    "X_res, y_res = sm.fit_resample(X_train_val, y_train_val)\n",
    "clf.fit(X_res,y_res)\n",
    "pred = clf.predict(X_test)\n",
    "print(accuracy_score(pred,y_test))\n",
    "print(f1_score(pred,y_test))\n",
    "print(precision_score(pred,y_test))\n",
    "print(recall_score(pred,y_test))"
   ]
  },
  {
   "cell_type": "code",
   "execution_count": null,
   "metadata": {
    "scrolled": true
   },
   "outputs": [],
   "source": [
    "confmat(y_test,pred)"
   ]
  },
  {
   "cell_type": "markdown",
   "metadata": {},
   "source": [
    "# KNN"
   ]
  },
  {
   "cell_type": "code",
   "execution_count": null,
   "metadata": {},
   "outputs": [],
   "source": [
    "from imblearn.over_sampling import SMOTE\n"
   ]
  },
  {
   "cell_type": "code",
   "execution_count": null,
   "metadata": {},
   "outputs": [],
   "source": [
    "from sklearn.model_selection import StratifiedKFold\n",
    "from imblearn.over_sampling import SMOTE\n",
    "from sklearn.neighbors import KNeighborsClassifier\n",
    "from sklearn.metrics import f1_score\n",
    "kf = StratifiedKFold(n_splits=10)\n",
    "scores = []\n",
    "for train_index, test_index in kf.split(X_train_val,y_train_val):\n",
    "    X_train, X_val = X_train_val[train_index], X_train_val[test_index]\n",
    "    y_train, y_val = y_train_val.iloc[train_index], y_train_val.iloc[test_index]\n",
    "    \n",
    "    #SMOTE\n",
    "    sm = SMOTE(random_state=42)\n",
    "    X_res, y_res = sm.fit_resample(X_train, y_train)\n",
    "    \n",
    "    #Classification\n",
    "    clf = KNeighborsClassifier(n_neighbors=10)\n",
    "    clf.fit(X_res,y_res)\n",
    "    pred = clf.predict(X_val)\n",
    "    scores.append(f1_score(pred,y_val))\n",
    "print(f\"mean score {np.mean(scores)}\")"
   ]
  },
  {
   "cell_type": "code",
   "execution_count": null,
   "metadata": {},
   "outputs": [],
   "source": [
    "from sklearn.svm import LinearSVC\n",
    "clf = KNeighborsClassifier(n_neighbors=10)\n",
    "sm = SMOTE(random_state=42)\n",
    "X_res, y_res = sm.fit_resample(X_train_val, y_train_val)\n",
    "clf.fit(X_res,y_res)\n",
    "pred = clf.predict(X_test)\n",
    "print(accuracy_score(pred,y_test))\n",
    "print(f1_score(pred,y_test))\n",
    "print(precision_score(pred,y_test))\n",
    "print(recall_score(pred,y_test))"
   ]
  },
  {
   "cell_type": "code",
   "execution_count": null,
   "metadata": {},
   "outputs": [],
   "source": [
    "confmat(y_test,pred)"
   ]
  },
  {
   "cell_type": "code",
   "execution_count": null,
   "metadata": {
    "scrolled": true
   },
   "outputs": [],
   "source": [
    "f1 = [0.6264282165921511,0.6549401197604791,0.6596923076923078,0.6555134937110757,0.6330916623511135]\n",
    "accuracy = [0.7668036281882317,0.7855647724629816,0.7856422978525467,0.7752538956508257,0.780293045972556]\n",
    "precision = [0.789358372456964,0.8215962441314554,0.838810641627543,0.8397496087636933,0.7652582159624414]\n",
    "recall = [0.5192505661931234,0.5444928438083385,0.5436105476673428,0.5374449339207048,0.5398542724663281]\n",
    "scores = pd.DataFrame(list(zip(f1,accuracy,precision,recall)), \n",
    "               columns =['f1', 'accuracy','precision','recall']) \n",
    "\n",
    "plt.figure(figsize=(8,6))\n",
    "x=[\"Decision Tree\",\"Random Forest\",\"Logistic Regression\",\"SVM\",\"K-nn\"]\n",
    "ax = sns.barplot(x=x,y=scores['f1'],palette='colorblind')\n",
    "for p in ax.patches:\n",
    "    ax.annotate(\"{:.3f}\".format(p.get_height(), 'f'), (p.get_x() + p.get_width() / 2., p.get_height()), ha='center', va='center', xytext=(0, 10), textcoords='offset points')\n",
    "plt.show()"
   ]
  },
  {
   "cell_type": "code",
   "execution_count": null,
   "metadata": {},
   "outputs": [],
   "source": [
    "plt.figure(figsize=(8,6))\n",
    "ax = sns.barplot(x=x,y=scores['accuracy'],palette='colorblind')\n",
    "for p in ax.patches:\n",
    "    ax.annotate(\"{:.3f}\".format(p.get_height(), 'f'), (p.get_x() + p.get_width() / 2., p.get_height()), ha='center', va='center', xytext=(0, 10), textcoords='offset points')\n",
    "plt.show()"
   ]
  },
  {
   "cell_type": "code",
   "execution_count": null,
   "metadata": {},
   "outputs": [],
   "source": [
    "plt.figure(figsize=(8,6))\n",
    "ax = sns.barplot(x=x,y=scores['precision'],palette='colorblind')\n",
    "for p in ax.patches:\n",
    "    ax.annotate(\"{:.3f}\".format(p.get_height(), 'f'), (p.get_x() + p.get_width() / 2., p.get_height()), ha='center', va='center', xytext=(0, 10), textcoords='offset points')\n",
    "plt.show()"
   ]
  },
  {
   "cell_type": "code",
   "execution_count": null,
   "metadata": {},
   "outputs": [],
   "source": [
    "plt.figure(figsize=(8,6))\n",
    "ax = sns.barplot(x=x,y=scores['recall'],palette='colorblind')\n",
    "for p in ax.patches:\n",
    "    ax.annotate(\"{:.3f}\".format(p.get_height(), 'f'), (p.get_x() + p.get_width() / 2., p.get_height()), ha='center', va='center', xytext=(0, 10), textcoords='offset points')\n",
    "plt.show()"
   ]
  }
 ],
 "metadata": {
  "kernelspec": {
   "display_name": "Python 3",
   "language": "python",
   "name": "python3"
  },
  "language_info": {
   "codemirror_mode": {
    "name": "ipython",
    "version": 3
   },
   "file_extension": ".py",
   "mimetype": "text/x-python",
   "name": "python",
   "nbconvert_exporter": "python",
   "pygments_lexer": "ipython3",
   "version": "3.7.4"
  }
 },
 "nbformat": 4,
 "nbformat_minor": 2
}
